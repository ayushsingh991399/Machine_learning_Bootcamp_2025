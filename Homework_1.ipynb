{
 "cells": [
  {
   "cell_type": "markdown",
   "id": "b19487a5",
   "metadata": {},
   "source": [
    "Machine Learnig Bootcamp\n",
    "HomeWork 1"
   ]
  },
  {
   "cell_type": "markdown",
   "id": "f4bd00f0",
   "metadata": {},
   "source": [
    "Q1. Pandas version.\n",
    "What's the version of Pandas that you installed?"
   ]
  },
  {
   "cell_type": "code",
   "execution_count": 1,
   "id": "f8bdd535",
   "metadata": {},
   "outputs": [],
   "source": [
    "import pandas as pd"
   ]
  },
  {
   "cell_type": "code",
   "execution_count": 2,
   "id": "1f84c313",
   "metadata": {},
   "outputs": [
    {
     "name": "stdout",
     "output_type": "stream",
     "text": [
      "Answer of Question 1 is: 1.5.2\n"
     ]
    }
   ],
   "source": [
    "print((f\"Answer of Question 1 is: {pd.__version__}\"))"
   ]
  },
  {
   "cell_type": "markdown",
   "id": "a39f6705",
   "metadata": {},
   "source": [
    "Getting the data,\n",
    "For this Homework,"
   ]
  },
  {
   "cell_type": "code",
   "execution_count": 3,
   "id": "e6eeb045",
   "metadata": {},
   "outputs": [],
   "source": [
    "data = pd.read_csv(\"https://raw.githubusercontent.com/alexeygrigorev/datasets/master/car_fuel_efficiency.csv\")"
   ]
  },
  {
   "cell_type": "markdown",
   "id": "5d1fb0d0",
   "metadata": {},
   "source": [
    "Cheching the data"
   ]
  },
  {
   "cell_type": "code",
   "execution_count": 4,
   "id": "07c948ea",
   "metadata": {},
   "outputs": [
    {
     "data": {
      "text/html": [
       "<div>\n",
       "<style scoped>\n",
       "    .dataframe tbody tr th:only-of-type {\n",
       "        vertical-align: middle;\n",
       "    }\n",
       "\n",
       "    .dataframe tbody tr th {\n",
       "        vertical-align: top;\n",
       "    }\n",
       "\n",
       "    .dataframe thead th {\n",
       "        text-align: right;\n",
       "    }\n",
       "</style>\n",
       "<table border=\"1\" class=\"dataframe\">\n",
       "  <thead>\n",
       "    <tr style=\"text-align: right;\">\n",
       "      <th></th>\n",
       "      <th>engine_displacement</th>\n",
       "      <th>num_cylinders</th>\n",
       "      <th>horsepower</th>\n",
       "      <th>vehicle_weight</th>\n",
       "      <th>acceleration</th>\n",
       "      <th>model_year</th>\n",
       "      <th>origin</th>\n",
       "      <th>fuel_type</th>\n",
       "      <th>drivetrain</th>\n",
       "      <th>num_doors</th>\n",
       "      <th>fuel_efficiency_mpg</th>\n",
       "    </tr>\n",
       "  </thead>\n",
       "  <tbody>\n",
       "    <tr>\n",
       "      <th>0</th>\n",
       "      <td>170</td>\n",
       "      <td>3.0</td>\n",
       "      <td>159.0</td>\n",
       "      <td>3413.433759</td>\n",
       "      <td>17.7</td>\n",
       "      <td>2003</td>\n",
       "      <td>Europe</td>\n",
       "      <td>Gasoline</td>\n",
       "      <td>All-wheel drive</td>\n",
       "      <td>0.0</td>\n",
       "      <td>13.231729</td>\n",
       "    </tr>\n",
       "    <tr>\n",
       "      <th>1</th>\n",
       "      <td>130</td>\n",
       "      <td>5.0</td>\n",
       "      <td>97.0</td>\n",
       "      <td>3149.664934</td>\n",
       "      <td>17.8</td>\n",
       "      <td>2007</td>\n",
       "      <td>USA</td>\n",
       "      <td>Gasoline</td>\n",
       "      <td>Front-wheel drive</td>\n",
       "      <td>0.0</td>\n",
       "      <td>13.688217</td>\n",
       "    </tr>\n",
       "    <tr>\n",
       "      <th>2</th>\n",
       "      <td>170</td>\n",
       "      <td>NaN</td>\n",
       "      <td>78.0</td>\n",
       "      <td>3079.038997</td>\n",
       "      <td>15.1</td>\n",
       "      <td>2018</td>\n",
       "      <td>Europe</td>\n",
       "      <td>Gasoline</td>\n",
       "      <td>Front-wheel drive</td>\n",
       "      <td>0.0</td>\n",
       "      <td>14.246341</td>\n",
       "    </tr>\n",
       "    <tr>\n",
       "      <th>3</th>\n",
       "      <td>220</td>\n",
       "      <td>4.0</td>\n",
       "      <td>NaN</td>\n",
       "      <td>2542.392402</td>\n",
       "      <td>20.2</td>\n",
       "      <td>2009</td>\n",
       "      <td>USA</td>\n",
       "      <td>Diesel</td>\n",
       "      <td>All-wheel drive</td>\n",
       "      <td>2.0</td>\n",
       "      <td>16.912736</td>\n",
       "    </tr>\n",
       "    <tr>\n",
       "      <th>4</th>\n",
       "      <td>210</td>\n",
       "      <td>1.0</td>\n",
       "      <td>140.0</td>\n",
       "      <td>3460.870990</td>\n",
       "      <td>14.4</td>\n",
       "      <td>2009</td>\n",
       "      <td>Europe</td>\n",
       "      <td>Gasoline</td>\n",
       "      <td>All-wheel drive</td>\n",
       "      <td>2.0</td>\n",
       "      <td>12.488369</td>\n",
       "    </tr>\n",
       "  </tbody>\n",
       "</table>\n",
       "</div>"
      ],
      "text/plain": [
       "   engine_displacement  num_cylinders  horsepower  vehicle_weight  \\\n",
       "0                  170            3.0       159.0     3413.433759   \n",
       "1                  130            5.0        97.0     3149.664934   \n",
       "2                  170            NaN        78.0     3079.038997   \n",
       "3                  220            4.0         NaN     2542.392402   \n",
       "4                  210            1.0       140.0     3460.870990   \n",
       "\n",
       "   acceleration  model_year  origin fuel_type         drivetrain  num_doors  \\\n",
       "0          17.7        2003  Europe  Gasoline    All-wheel drive        0.0   \n",
       "1          17.8        2007     USA  Gasoline  Front-wheel drive        0.0   \n",
       "2          15.1        2018  Europe  Gasoline  Front-wheel drive        0.0   \n",
       "3          20.2        2009     USA    Diesel    All-wheel drive        2.0   \n",
       "4          14.4        2009  Europe  Gasoline    All-wheel drive        2.0   \n",
       "\n",
       "   fuel_efficiency_mpg  \n",
       "0            13.231729  \n",
       "1            13.688217  \n",
       "2            14.246341  \n",
       "3            16.912736  \n",
       "4            12.488369  "
      ]
     },
     "execution_count": 4,
     "metadata": {},
     "output_type": "execute_result"
    }
   ],
   "source": [
    "data.head()"
   ]
  },
  {
   "cell_type": "markdown",
   "id": "e1671d58",
   "metadata": {},
   "source": [
    "Q2. Records count\n",
    "How many records are in the dataset?\n",
    "\n",
    "1 : 4704 <br>\n",
    "2 : 8704 <br>\n",
    "3 : 9704 <br>\n",
    "4 : 17704 <br>"
   ]
  },
  {
   "cell_type": "code",
   "execution_count": 5,
   "id": "cab166a8",
   "metadata": {},
   "outputs": [
    {
     "name": "stdout",
     "output_type": "stream",
     "text": [
      "Answer of Question 2 is: 9704\n",
      "Answer of Question 2 is: 9704\n"
     ]
    }
   ],
   "source": [
    "print(f\"Answer of Question 2 is: {data.shape[0]}\")\n",
    "#another way to do it is len(data)\n",
    "print(f\"Answer of Question 2 is: {len(data)}\")"
   ]
  },
  {
   "cell_type": "markdown",
   "id": "935a5368",
   "metadata": {},
   "source": [
    "Q3. Fuel types\n",
    "How many fuel types are presented in the dataset?\n",
    "\n",
    "1:  1 <br>\n",
    "2 : 2 <br>\n",
    "3 : 3 <br>\n",
    "4 : 4 <br>"
   ]
  },
  {
   "cell_type": "code",
   "execution_count": 6,
   "id": "9e36515c",
   "metadata": {},
   "outputs": [
    {
     "name": "stdout",
     "output_type": "stream",
     "text": [
      "Answer of Question 3 is: 2\n"
     ]
    }
   ],
   "source": [
    "print(f\"Answer of Question 3 is: {data['fuel_type'].nunique()}\")"
   ]
  },
  {
   "cell_type": "markdown",
   "id": "e4b8a295",
   "metadata": {},
   "source": [
    "Q4. Missing values\n",
    "How many columns in the dataset have missing values? <br>\n",
    "1 : 0 <br>\n",
    "2 : 1 <br>\n",
    "3 : 2 <br>\n",
    "4 : 3 <br>\n",
    "5 : 4 <br>"
   ]
  },
  {
   "cell_type": "code",
   "execution_count": 7,
   "id": "de3cd4fc",
   "metadata": {},
   "outputs": [
    {
     "name": "stdout",
     "output_type": "stream",
     "text": [
      "Answer of Question 4 is: 4\n"
     ]
    }
   ],
   "source": [
    "print(f\"Answer of Question 4 is: { data.isnull().sum().loc[lambda x : x>0].shape[0] }\")"
   ]
  },
  {
   "cell_type": "markdown",
   "id": "105c00dd",
   "metadata": {},
   "source": [
    "Q5. Max fuel efficiency\n",
    "What's the maximum fuel efficiency of cars from Asia?<br>\n",
    "\n",
    "1 : 13.75 <br>\n",
    "2 : 23.75 <br>\n",
    "3 : 33.75 <br>\n",
    "4 : 43.75 <br>"
   ]
  },
  {
   "cell_type": "code",
   "execution_count": 8,
   "id": "0191c145",
   "metadata": {},
   "outputs": [
    {
     "name": "stdout",
     "output_type": "stream",
     "text": [
      "Answer of Question 5 is: 23.759122836520497\n"
     ]
    }
   ],
   "source": [
    "print(f\"Answer of Question 5 is: { data[data['origin'] == 'Asia']['fuel_efficiency_mpg'].max()}\") "
   ]
  },
  {
   "cell_type": "markdown",
   "id": "5aa68c01",
   "metadata": {},
   "source": [
    "Q6. Median value of horsepower<br>\n",
    "Find the median value of horsepower column in the dataset.<br>\n",
    "Next, calculate the most frequent value of the same horsepower column.<br>\n",
    "Use fillna method to fill the missing values in horsepower column with the most frequent value from the previous step.<br>\n",
    "Now, calculate the median value of horsepower once again.<br>\n",
    "Has it changed?<br>\n",
    "\n",
    "1 : Yes, it increased <br>\n",
    "2 : Yes, it decreased <br>\n",
    "3 : No <br>"
   ]
  },
  {
   "cell_type": "code",
   "execution_count": 25,
   "id": "69cd802a",
   "metadata": {},
   "outputs": [
    {
     "name": "stdout",
     "output_type": "stream",
     "text": [
      "Median value of horsepower is: 152.0\n",
      "Most frequent value of horsepower is: 152.0\n",
      "Median value of horsepower after filling missing values is: 152.0\n",
      "missing value : 0 \n",
      "Answer of question 6 is : Yes, it increased \n"
     ]
    }
   ],
   "source": [
    "median = data[\"horsepower\"].median()\n",
    "print(f\"Median value of horsepower is: {median}\")\n",
    "print(f\"Most frequent value of horsepower is: {data['horsepower'].mode()[0]}\")\n",
    "data[\"horsepower\"] = data[\"horsepower\"].fillna(data[\"horsepower\"].mode()[0])\n",
    "print(f\"Median value of horsepower after filling missing values is: {data_filling.median()}\")\n",
    "print(f\"missing value : {data['horsepower'].isnull().sum()} \")\n",
    "print(\"Answer of question 6 is : Yes, it increased \")"
   ]
  },
  {
   "cell_type": "markdown",
   "id": "dd2ccfc6",
   "metadata": {},
   "source": [
    "Q7. Sum of weights<br>\n",
    "Select all the cars from Asia <br>\n",
    "Select only columns vehicle_weight and model_year<br>\n",
    "Select the first 7 values<br>\n",
    "Get the underlying NumPy array. Let's call it X.<br>\n",
    "Compute matrix-matrix multiplication between the transpose of X and X. To get the transpose, use X.T. Let's call the result XTX.<br>\n",
    "Invert XTX.<br>\n",
    "Create an array y with values [1100, 1300, 800, 900, 1000, 1100, 1200].<br>\n",
    "Multiply the inverse of XTX with the transpose of X, and then multiply the result by y. Call the result w.<br>\n",
    "What's the sum of all the elements of the result?<br>\n",
    "Note: You just implemented linear regression. We'll talk about it in the next lesson.<br>\n",
    "\n",
    "1 : 0.051<br>\n",
    "2 : .51<br>\n",
    "3 : 5.1<br>\n",
    "4 : 51<br>"
   ]
  },
  {
   "cell_type": "code",
   "execution_count": 26,
   "id": "c91f0904",
   "metadata": {},
   "outputs": [
    {
     "data": {
      "text/html": [
       "<div>\n",
       "<style scoped>\n",
       "    .dataframe tbody tr th:only-of-type {\n",
       "        vertical-align: middle;\n",
       "    }\n",
       "\n",
       "    .dataframe tbody tr th {\n",
       "        vertical-align: top;\n",
       "    }\n",
       "\n",
       "    .dataframe thead th {\n",
       "        text-align: right;\n",
       "    }\n",
       "</style>\n",
       "<table border=\"1\" class=\"dataframe\">\n",
       "  <thead>\n",
       "    <tr style=\"text-align: right;\">\n",
       "      <th></th>\n",
       "      <th>engine_displacement</th>\n",
       "      <th>num_cylinders</th>\n",
       "      <th>horsepower</th>\n",
       "      <th>vehicle_weight</th>\n",
       "      <th>acceleration</th>\n",
       "      <th>model_year</th>\n",
       "      <th>origin</th>\n",
       "      <th>fuel_type</th>\n",
       "      <th>drivetrain</th>\n",
       "      <th>num_doors</th>\n",
       "      <th>fuel_efficiency_mpg</th>\n",
       "    </tr>\n",
       "  </thead>\n",
       "  <tbody>\n",
       "    <tr>\n",
       "      <th>0</th>\n",
       "      <td>170</td>\n",
       "      <td>3.0</td>\n",
       "      <td>159.0</td>\n",
       "      <td>3413.433759</td>\n",
       "      <td>17.7</td>\n",
       "      <td>2003</td>\n",
       "      <td>Europe</td>\n",
       "      <td>Gasoline</td>\n",
       "      <td>All-wheel drive</td>\n",
       "      <td>0.0</td>\n",
       "      <td>13.231729</td>\n",
       "    </tr>\n",
       "    <tr>\n",
       "      <th>1</th>\n",
       "      <td>130</td>\n",
       "      <td>5.0</td>\n",
       "      <td>97.0</td>\n",
       "      <td>3149.664934</td>\n",
       "      <td>17.8</td>\n",
       "      <td>2007</td>\n",
       "      <td>USA</td>\n",
       "      <td>Gasoline</td>\n",
       "      <td>Front-wheel drive</td>\n",
       "      <td>0.0</td>\n",
       "      <td>13.688217</td>\n",
       "    </tr>\n",
       "    <tr>\n",
       "      <th>2</th>\n",
       "      <td>170</td>\n",
       "      <td>NaN</td>\n",
       "      <td>78.0</td>\n",
       "      <td>3079.038997</td>\n",
       "      <td>15.1</td>\n",
       "      <td>2018</td>\n",
       "      <td>Europe</td>\n",
       "      <td>Gasoline</td>\n",
       "      <td>Front-wheel drive</td>\n",
       "      <td>0.0</td>\n",
       "      <td>14.246341</td>\n",
       "    </tr>\n",
       "    <tr>\n",
       "      <th>3</th>\n",
       "      <td>220</td>\n",
       "      <td>4.0</td>\n",
       "      <td>152.0</td>\n",
       "      <td>2542.392402</td>\n",
       "      <td>20.2</td>\n",
       "      <td>2009</td>\n",
       "      <td>USA</td>\n",
       "      <td>Diesel</td>\n",
       "      <td>All-wheel drive</td>\n",
       "      <td>2.0</td>\n",
       "      <td>16.912736</td>\n",
       "    </tr>\n",
       "    <tr>\n",
       "      <th>4</th>\n",
       "      <td>210</td>\n",
       "      <td>1.0</td>\n",
       "      <td>140.0</td>\n",
       "      <td>3460.870990</td>\n",
       "      <td>14.4</td>\n",
       "      <td>2009</td>\n",
       "      <td>Europe</td>\n",
       "      <td>Gasoline</td>\n",
       "      <td>All-wheel drive</td>\n",
       "      <td>2.0</td>\n",
       "      <td>12.488369</td>\n",
       "    </tr>\n",
       "  </tbody>\n",
       "</table>\n",
       "</div>"
      ],
      "text/plain": [
       "   engine_displacement  num_cylinders  horsepower  vehicle_weight  \\\n",
       "0                  170            3.0       159.0     3413.433759   \n",
       "1                  130            5.0        97.0     3149.664934   \n",
       "2                  170            NaN        78.0     3079.038997   \n",
       "3                  220            4.0       152.0     2542.392402   \n",
       "4                  210            1.0       140.0     3460.870990   \n",
       "\n",
       "   acceleration  model_year  origin fuel_type         drivetrain  num_doors  \\\n",
       "0          17.7        2003  Europe  Gasoline    All-wheel drive        0.0   \n",
       "1          17.8        2007     USA  Gasoline  Front-wheel drive        0.0   \n",
       "2          15.1        2018  Europe  Gasoline  Front-wheel drive        0.0   \n",
       "3          20.2        2009     USA    Diesel    All-wheel drive        2.0   \n",
       "4          14.4        2009  Europe  Gasoline    All-wheel drive        2.0   \n",
       "\n",
       "   fuel_efficiency_mpg  \n",
       "0            13.231729  \n",
       "1            13.688217  \n",
       "2            14.246341  \n",
       "3            16.912736  \n",
       "4            12.488369  "
      ]
     },
     "execution_count": 26,
     "metadata": {},
     "output_type": "execute_result"
    }
   ],
   "source": [
    "data.head()"
   ]
  },
  {
   "cell_type": "code",
   "execution_count": 35,
   "id": "7ff8b9b4",
   "metadata": {},
   "outputs": [],
   "source": [
    "import numpy as np"
   ]
  },
  {
   "cell_type": "code",
   "execution_count": 38,
   "id": "af1e4645",
   "metadata": {},
   "outputs": [
    {
     "data": {
      "text/plain": [
       "array([[2714.21930965, 2016.        ],\n",
       "       [2783.86897424, 2010.        ],\n",
       "       [3582.68736772, 2007.        ],\n",
       "       [2231.8081416 , 2011.        ],\n",
       "       [2659.43145076, 2016.        ],\n",
       "       [2844.22753389, 2014.        ],\n",
       "       [3761.99403819, 2019.        ]])"
      ]
     },
     "execution_count": 38,
     "metadata": {},
     "output_type": "execute_result"
    }
   ],
   "source": [
    "Asia_cars = data[data[\"origin\"] == \"Asia\"]\n",
    "Column_vehicle_model = data[data[\"origin\"] == \"Asia\"][['vehicle_weight', 'model_year']]\n",
    "first_7 = Column_vehicle_model.head(7)\n",
    "X = first_7.to_numpy()\n",
    "X"
   ]
  }
 ],
 "metadata": {
  "kernelspec": {
   "display_name": "ds_genai",
   "language": "python",
   "name": "python3"
  },
  "language_info": {
   "codemirror_mode": {
    "name": "ipython",
    "version": 3
   },
   "file_extension": ".py",
   "mimetype": "text/x-python",
   "name": "python",
   "nbconvert_exporter": "python",
   "pygments_lexer": "ipython3",
   "version": "3.10.18"
  }
 },
 "nbformat": 4,
 "nbformat_minor": 5
}
